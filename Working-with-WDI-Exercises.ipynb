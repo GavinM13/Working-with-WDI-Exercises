{
 "cells": [
  {
   "cell_type": "markdown",
   "id": "4a95fef3",
   "metadata": {
    "tags": []
   },
   "source": [
    "from __future__ import division\n",
    "import os\n",
    "from datetime import datetime\n",
    "\n",
    "# Web & file access\n",
    "import requests\n",
    "import io\n",
    "\n",
    "# Import display options for showing websites\n",
    "from IPython.display import IFrame, HTML"
   ]
  },
  {
   "cell_type": "markdown",
   "id": "3dbddc25-1614-4b7c-b0e8-f6e2decd60ac",
   "metadata": {
    "slideshow": {
     "slide_type": "subslide"
    },
    "tags": []
   },
   "source": [
    "# Plotting\n",
    "import matplotlib as mpl\n",
    "import matplotlib.pyplot as plt\n",
    "import matplotlib.ticker as mtick\n",
    "\n",
    "%pylab --no-import-all\n",
    "%matplotlib inline\n",
    "\n",
    "import seaborn as sns\n",
    "sns.set(rc={'figure.figsize':(11.7,8.27)})\n",
    "sns.set_context(\"talk\")\n",
    "\n",
    "import plotly.express as px\n",
    "import plotly.graph_objects as go\n",
    "\n",
    "from plotnine import ggplot, geom_point, aes, stat_smooth, facet_wrap\n",
    "# Next line can import all of plotnine, but may overwrite things? Better import each function/object you need\n",
    "#from plotnine import *"
   ]
  },
  {
   "cell_type": "code",
   "execution_count": 22,
   "id": "30e1b70c-d98d-4959-8385-370ff252b7ac",
   "metadata": {
    "slideshow": {
     "slide_type": "subslide"
    }
   },
   "outputs": [],
   "source": [
    "# Data\n",
    "import pandas as pd\n",
    "import numpy as np\n",
    "from pandas_datareader import data, wb\n",
    "\n",
    "# GIS & maps\n",
    "import geopandas as gpd\n",
    "gp = gpd\n",
    "import georasters as gr\n",
    "import geoplot as gplt\n",
    "import geoplot.crs as gcrs\n",
    "import mapclassify as mc\n",
    "import textwrap"
   ]
  },
  {
   "cell_type": "code",
   "execution_count": 23,
   "id": "cdd33139-f799-4e3e-a2b7-6919cb7b1f36",
   "metadata": {
    "slideshow": {
     "slide_type": "subslide"
    }
   },
   "outputs": [
    {
     "ename": "ModuleNotFoundError",
     "evalue": "No module named 'geonamescache'",
     "output_type": "error",
     "traceback": [
      "\u001b[0;31m---------------------------------------------------------------------------\u001b[0m",
      "\u001b[0;31mModuleNotFoundError\u001b[0m                       Traceback (most recent call last)",
      "Input \u001b[0;32mIn [23]\u001b[0m, in \u001b[0;36m<cell line: 6>\u001b[0;34m()\u001b[0m\n\u001b[1;32m      4\u001b[0m \u001b[38;5;28;01mimport\u001b[39;00m \u001b[38;5;21;01mpycountry\u001b[39;00m\n\u001b[1;32m      5\u001b[0m \u001b[38;5;28;01mimport\u001b[39;00m \u001b[38;5;21;01mgeocoder\u001b[39;00m\n\u001b[0;32m----> 6\u001b[0m \u001b[38;5;28;01mfrom\u001b[39;00m \u001b[38;5;21;01mgeonamescache\u001b[39;00m\u001b[38;5;21;01m.\u001b[39;00m\u001b[38;5;21;01mmappers\u001b[39;00m \u001b[38;5;28;01mimport\u001b[39;00m country\n\u001b[1;32m      7\u001b[0m mapper \u001b[38;5;241m=\u001b[39m country(from_key\u001b[38;5;241m=\u001b[39m\u001b[38;5;124m'\u001b[39m\u001b[38;5;124mname\u001b[39m\u001b[38;5;124m'\u001b[39m, to_key\u001b[38;5;241m=\u001b[39m\u001b[38;5;124m'\u001b[39m\u001b[38;5;124miso3\u001b[39m\u001b[38;5;124m'\u001b[39m)\n\u001b[1;32m      8\u001b[0m mapper2 \u001b[38;5;241m=\u001b[39m country(from_key\u001b[38;5;241m=\u001b[39m\u001b[38;5;124m'\u001b[39m\u001b[38;5;124miso3\u001b[39m\u001b[38;5;124m'\u001b[39m, to_key\u001b[38;5;241m=\u001b[39m\u001b[38;5;124m'\u001b[39m\u001b[38;5;124miso\u001b[39m\u001b[38;5;124m'\u001b[39m)\n",
      "\u001b[0;31mModuleNotFoundError\u001b[0m: No module named 'geonamescache'"
     ]
    }
   ],
   "source": [
    "# Data Munging\n",
    "from itertools import product, combinations\n",
    "import difflib\n",
    "import pycountry\n",
    "import geocoder\n",
    "from geonamescache.mappers import country\n",
    "mapper = country(from_key='name', to_key='iso3')\n",
    "mapper2 = country(from_key='iso3', to_key='iso')\n",
    "mapper3 = country(from_key='iso3', to_key='name')\n",
    "\n",
    "# Regressions & Stats\n",
    "from scipy.stats import norm\n",
    "import statsmodels.formula.api as smf\n",
    "from stargazer.stargazer import Stargazer, LineLocation"
   ]
  },
  {
   "cell_type": "code",
   "execution_count": 24,
   "id": "8fd742a1-c2d6-4f53-92d9-6df866e34560",
   "metadata": {
    "slideshow": {
     "slide_type": "subslide"
    }
   },
   "outputs": [],
   "source": [
    "# Paths\n",
    "pathout = './data/'\n",
    "\n",
    "if not os.path.exists(pathout):\n",
    "    os.mkdir(pathout)\n",
    "    \n",
    "pathgraphs = './graphs/'\n",
    "if not os.path.exists(pathgraphs):\n",
    "    os.mkdir(pathgraphs)"
   ]
  },
  {
   "cell_type": "code",
   "execution_count": 9,
   "id": "2b90a79a-50b8-447f-b6d4-86ec9460bdbd",
   "metadata": {
    "slideshow": {
     "slide_type": "subslide"
    }
   },
   "outputs": [],
   "source": [
    "currentYear = datetime.now().year\n",
    "year = min(2020, currentYear-2)"
   ]
  },
  {
   "cell_type": "markdown",
   "id": "6acbefa4-74b7-4064-b425-29adfe0b95c7",
   "metadata": {
    "slideshow": {
     "slide_type": "fragment"
    },
    "tags": [],
    "user_expressions": []
   },
   "source": [
    "<div class=\"alert alert-block alert-warning\">\n",
    "    <b>Exercise 1:</b> Get WDI data on <b>patent applications by residents and non-residents in each country</b>. Create a new variable that shows the total patents for each country.\n",
    "</div>"
   ]
  },
  {
   "cell_type": "code",
   "execution_count": 25,
   "id": "89adb93b-7e9e-4348-bdb2-066d7dba3dfd",
   "metadata": {},
   "outputs": [
    {
     "data": {
      "text/html": [
       "\n",
       "        <iframe\n",
       "            width=\"500\"\n",
       "            height=\"300\"\n",
       "            src=\"https://data.worldbank.org/share/widget?indicators=IP.PAT.RESD\"\n",
       "            frameborder=\"0\"\n",
       "            allowfullscreen\n",
       "            \n",
       "        ></iframe>\n",
       "        "
      ],
      "text/plain": [
       "<IPython.lib.display.IFrame at 0x178117c10>"
      ]
     },
     "execution_count": 25,
     "metadata": {},
     "output_type": "execute_result"
    }
   ],
   "source": [
    "url = 'https://data.worldbank.org/share/widget?indicators=IP.PAT.RESD'\n",
    "IFrame(url, width=500, height=300)"
   ]
  },
  {
   "cell_type": "code",
   "execution_count": 28,
   "id": "53128fa5-27b1-4277-b5a0-ae6bc05ace54",
   "metadata": {},
   "outputs": [
    {
     "data": {
      "text/html": [
       "\n",
       "        <iframe\n",
       "            width=\"500\"\n",
       "            height=\"300\"\n",
       "            src=\"https://data.worldbank.org/share/widget?indicators=IP.PAT.NRES\"\n",
       "            frameborder=\"0\"\n",
       "            allowfullscreen\n",
       "            \n",
       "        ></iframe>\n",
       "        "
      ],
      "text/plain": [
       "<IPython.lib.display.IFrame at 0x178117250>"
      ]
     },
     "execution_count": 28,
     "metadata": {},
     "output_type": "execute_result"
    }
   ],
   "source": [
    "url = 'https://data.worldbank.org/share/widget?indicators=IP.PAT.NRES'\n",
    "IFrame(url, width=500, height=300)"
   ]
  },
  {
   "cell_type": "code",
   "execution_count": 12,
   "id": "49ebf82d-22df-42df-a76b-1856403d234e",
   "metadata": {
    "collapsed": true,
    "jupyter": {
     "outputs_hidden": true
    },
    "tags": []
   },
   "outputs": [
    {
     "name": "stdout",
     "output_type": "stream",
     "text": [
      "Requirement already satisfied: pandas-datareader in /Users/gavinmcguire/opt/anaconda3/envs/EconGrowthUG-Builds/lib/python3.9/site-packages (0.10.0)\n",
      "Requirement already satisfied: requests>=2.19.0 in /Users/gavinmcguire/opt/anaconda3/envs/EconGrowthUG-Builds/lib/python3.9/site-packages (from pandas-datareader) (2.28.1)\n",
      "Requirement already satisfied: pandas>=0.23 in /Users/gavinmcguire/opt/anaconda3/envs/EconGrowthUG-Builds/lib/python3.9/site-packages (from pandas-datareader) (1.4.3)\n",
      "Requirement already satisfied: lxml in /Users/gavinmcguire/opt/anaconda3/envs/EconGrowthUG-Builds/lib/python3.9/site-packages (from pandas-datareader) (4.8.0)\n",
      "Requirement already satisfied: python-dateutil>=2.8.1 in /Users/gavinmcguire/opt/anaconda3/envs/EconGrowthUG-Builds/lib/python3.9/site-packages (from pandas>=0.23->pandas-datareader) (2.8.2)\n",
      "Requirement already satisfied: pytz>=2020.1 in /Users/gavinmcguire/opt/anaconda3/envs/EconGrowthUG-Builds/lib/python3.9/site-packages (from pandas>=0.23->pandas-datareader) (2022.2.1)\n",
      "Requirement already satisfied: numpy>=1.18.5 in /Users/gavinmcguire/opt/anaconda3/envs/EconGrowthUG-Builds/lib/python3.9/site-packages (from pandas>=0.23->pandas-datareader) (1.23.2)\n",
      "Requirement already satisfied: idna<4,>=2.5 in /Users/gavinmcguire/opt/anaconda3/envs/EconGrowthUG-Builds/lib/python3.9/site-packages (from requests>=2.19.0->pandas-datareader) (3.3)\n",
      "Requirement already satisfied: urllib3<1.27,>=1.21.1 in /Users/gavinmcguire/opt/anaconda3/envs/EconGrowthUG-Builds/lib/python3.9/site-packages (from requests>=2.19.0->pandas-datareader) (1.26.11)\n",
      "Requirement already satisfied: certifi>=2017.4.17 in /Users/gavinmcguire/opt/anaconda3/envs/EconGrowthUG-Builds/lib/python3.9/site-packages (from requests>=2.19.0->pandas-datareader) (2022.9.24)\n",
      "Requirement already satisfied: charset-normalizer<3,>=2 in /Users/gavinmcguire/opt/anaconda3/envs/EconGrowthUG-Builds/lib/python3.9/site-packages (from requests>=2.19.0->pandas-datareader) (2.1.0)\n",
      "Requirement already satisfied: six>=1.5 in /Users/gavinmcguire/opt/anaconda3/envs/EconGrowthUG-Builds/lib/python3.9/site-packages (from python-dateutil>=2.8.1->pandas>=0.23->pandas-datareader) (1.16.0)\n",
      "Note: you may need to restart the kernel to use updated packages.\n"
     ]
    }
   ],
   "source": [
    "pip install pandas-datareader"
   ]
  },
  {
   "cell_type": "code",
   "execution_count": 13,
   "id": "ebac8fa3-a1e1-43e7-b870-360a47958a5e",
   "metadata": {
    "collapsed": true,
    "jupyter": {
     "outputs_hidden": true
    },
    "tags": []
   },
   "outputs": [
    {
     "data": {
      "text/html": [
       "<div>\n",
       "<style scoped>\n",
       "    .dataframe tbody tr th:only-of-type {\n",
       "        vertical-align: middle;\n",
       "    }\n",
       "\n",
       "    .dataframe tbody tr th {\n",
       "        vertical-align: top;\n",
       "    }\n",
       "\n",
       "    .dataframe thead th {\n",
       "        text-align: right;\n",
       "    }\n",
       "</style>\n",
       "<table border=\"1\" class=\"dataframe\">\n",
       "  <thead>\n",
       "    <tr style=\"text-align: right;\">\n",
       "      <th></th>\n",
       "      <th>GS10</th>\n",
       "    </tr>\n",
       "    <tr>\n",
       "      <th>DATE</th>\n",
       "      <th></th>\n",
       "    </tr>\n",
       "  </thead>\n",
       "  <tbody>\n",
       "    <tr>\n",
       "      <th>2017-12-01</th>\n",
       "      <td>2.40</td>\n",
       "    </tr>\n",
       "    <tr>\n",
       "      <th>2018-01-01</th>\n",
       "      <td>2.58</td>\n",
       "    </tr>\n",
       "    <tr>\n",
       "      <th>2018-02-01</th>\n",
       "      <td>2.86</td>\n",
       "    </tr>\n",
       "    <tr>\n",
       "      <th>2018-03-01</th>\n",
       "      <td>2.84</td>\n",
       "    </tr>\n",
       "    <tr>\n",
       "      <th>2018-04-01</th>\n",
       "      <td>2.87</td>\n",
       "    </tr>\n",
       "    <tr>\n",
       "      <th>2018-05-01</th>\n",
       "      <td>2.98</td>\n",
       "    </tr>\n",
       "    <tr>\n",
       "      <th>2018-06-01</th>\n",
       "      <td>2.91</td>\n",
       "    </tr>\n",
       "    <tr>\n",
       "      <th>2018-07-01</th>\n",
       "      <td>2.89</td>\n",
       "    </tr>\n",
       "    <tr>\n",
       "      <th>2018-08-01</th>\n",
       "      <td>2.89</td>\n",
       "    </tr>\n",
       "    <tr>\n",
       "      <th>2018-09-01</th>\n",
       "      <td>3.00</td>\n",
       "    </tr>\n",
       "    <tr>\n",
       "      <th>2018-10-01</th>\n",
       "      <td>3.15</td>\n",
       "    </tr>\n",
       "    <tr>\n",
       "      <th>2018-11-01</th>\n",
       "      <td>3.12</td>\n",
       "    </tr>\n",
       "    <tr>\n",
       "      <th>2018-12-01</th>\n",
       "      <td>2.83</td>\n",
       "    </tr>\n",
       "    <tr>\n",
       "      <th>2019-01-01</th>\n",
       "      <td>2.71</td>\n",
       "    </tr>\n",
       "    <tr>\n",
       "      <th>2019-02-01</th>\n",
       "      <td>2.68</td>\n",
       "    </tr>\n",
       "    <tr>\n",
       "      <th>2019-03-01</th>\n",
       "      <td>2.57</td>\n",
       "    </tr>\n",
       "    <tr>\n",
       "      <th>2019-04-01</th>\n",
       "      <td>2.53</td>\n",
       "    </tr>\n",
       "    <tr>\n",
       "      <th>2019-05-01</th>\n",
       "      <td>2.40</td>\n",
       "    </tr>\n",
       "    <tr>\n",
       "      <th>2019-06-01</th>\n",
       "      <td>2.07</td>\n",
       "    </tr>\n",
       "    <tr>\n",
       "      <th>2019-07-01</th>\n",
       "      <td>2.06</td>\n",
       "    </tr>\n",
       "    <tr>\n",
       "      <th>2019-08-01</th>\n",
       "      <td>1.63</td>\n",
       "    </tr>\n",
       "    <tr>\n",
       "      <th>2019-09-01</th>\n",
       "      <td>1.70</td>\n",
       "    </tr>\n",
       "    <tr>\n",
       "      <th>2019-10-01</th>\n",
       "      <td>1.71</td>\n",
       "    </tr>\n",
       "    <tr>\n",
       "      <th>2019-11-01</th>\n",
       "      <td>1.81</td>\n",
       "    </tr>\n",
       "    <tr>\n",
       "      <th>2019-12-01</th>\n",
       "      <td>1.86</td>\n",
       "    </tr>\n",
       "    <tr>\n",
       "      <th>2020-01-01</th>\n",
       "      <td>1.76</td>\n",
       "    </tr>\n",
       "    <tr>\n",
       "      <th>2020-02-01</th>\n",
       "      <td>1.50</td>\n",
       "    </tr>\n",
       "    <tr>\n",
       "      <th>2020-03-01</th>\n",
       "      <td>0.87</td>\n",
       "    </tr>\n",
       "    <tr>\n",
       "      <th>2020-04-01</th>\n",
       "      <td>0.66</td>\n",
       "    </tr>\n",
       "    <tr>\n",
       "      <th>2020-05-01</th>\n",
       "      <td>0.67</td>\n",
       "    </tr>\n",
       "    <tr>\n",
       "      <th>2020-06-01</th>\n",
       "      <td>0.73</td>\n",
       "    </tr>\n",
       "    <tr>\n",
       "      <th>2020-07-01</th>\n",
       "      <td>0.62</td>\n",
       "    </tr>\n",
       "    <tr>\n",
       "      <th>2020-08-01</th>\n",
       "      <td>0.65</td>\n",
       "    </tr>\n",
       "    <tr>\n",
       "      <th>2020-09-01</th>\n",
       "      <td>0.68</td>\n",
       "    </tr>\n",
       "    <tr>\n",
       "      <th>2020-10-01</th>\n",
       "      <td>0.79</td>\n",
       "    </tr>\n",
       "    <tr>\n",
       "      <th>2020-11-01</th>\n",
       "      <td>0.87</td>\n",
       "    </tr>\n",
       "    <tr>\n",
       "      <th>2020-12-01</th>\n",
       "      <td>0.93</td>\n",
       "    </tr>\n",
       "    <tr>\n",
       "      <th>2021-01-01</th>\n",
       "      <td>1.08</td>\n",
       "    </tr>\n",
       "    <tr>\n",
       "      <th>2021-02-01</th>\n",
       "      <td>1.26</td>\n",
       "    </tr>\n",
       "    <tr>\n",
       "      <th>2021-03-01</th>\n",
       "      <td>1.61</td>\n",
       "    </tr>\n",
       "    <tr>\n",
       "      <th>2021-04-01</th>\n",
       "      <td>1.64</td>\n",
       "    </tr>\n",
       "    <tr>\n",
       "      <th>2021-05-01</th>\n",
       "      <td>1.62</td>\n",
       "    </tr>\n",
       "    <tr>\n",
       "      <th>2021-06-01</th>\n",
       "      <td>1.52</td>\n",
       "    </tr>\n",
       "    <tr>\n",
       "      <th>2021-07-01</th>\n",
       "      <td>1.32</td>\n",
       "    </tr>\n",
       "    <tr>\n",
       "      <th>2021-08-01</th>\n",
       "      <td>1.28</td>\n",
       "    </tr>\n",
       "    <tr>\n",
       "      <th>2021-09-01</th>\n",
       "      <td>1.37</td>\n",
       "    </tr>\n",
       "    <tr>\n",
       "      <th>2021-10-01</th>\n",
       "      <td>1.58</td>\n",
       "    </tr>\n",
       "    <tr>\n",
       "      <th>2021-11-01</th>\n",
       "      <td>1.56</td>\n",
       "    </tr>\n",
       "    <tr>\n",
       "      <th>2021-12-01</th>\n",
       "      <td>1.47</td>\n",
       "    </tr>\n",
       "    <tr>\n",
       "      <th>2022-01-01</th>\n",
       "      <td>1.76</td>\n",
       "    </tr>\n",
       "    <tr>\n",
       "      <th>2022-02-01</th>\n",
       "      <td>1.93</td>\n",
       "    </tr>\n",
       "    <tr>\n",
       "      <th>2022-03-01</th>\n",
       "      <td>2.13</td>\n",
       "    </tr>\n",
       "    <tr>\n",
       "      <th>2022-04-01</th>\n",
       "      <td>2.75</td>\n",
       "    </tr>\n",
       "    <tr>\n",
       "      <th>2022-05-01</th>\n",
       "      <td>2.90</td>\n",
       "    </tr>\n",
       "    <tr>\n",
       "      <th>2022-06-01</th>\n",
       "      <td>3.14</td>\n",
       "    </tr>\n",
       "    <tr>\n",
       "      <th>2022-07-01</th>\n",
       "      <td>2.90</td>\n",
       "    </tr>\n",
       "    <tr>\n",
       "      <th>2022-08-01</th>\n",
       "      <td>2.90</td>\n",
       "    </tr>\n",
       "    <tr>\n",
       "      <th>2022-09-01</th>\n",
       "      <td>3.52</td>\n",
       "    </tr>\n",
       "    <tr>\n",
       "      <th>2022-10-01</th>\n",
       "      <td>3.98</td>\n",
       "    </tr>\n",
       "  </tbody>\n",
       "</table>\n",
       "</div>"
      ],
      "text/plain": [
       "            GS10\n",
       "DATE            \n",
       "2017-12-01  2.40\n",
       "2018-01-01  2.58\n",
       "2018-02-01  2.86\n",
       "2018-03-01  2.84\n",
       "2018-04-01  2.87\n",
       "2018-05-01  2.98\n",
       "2018-06-01  2.91\n",
       "2018-07-01  2.89\n",
       "2018-08-01  2.89\n",
       "2018-09-01  3.00\n",
       "2018-10-01  3.15\n",
       "2018-11-01  3.12\n",
       "2018-12-01  2.83\n",
       "2019-01-01  2.71\n",
       "2019-02-01  2.68\n",
       "2019-03-01  2.57\n",
       "2019-04-01  2.53\n",
       "2019-05-01  2.40\n",
       "2019-06-01  2.07\n",
       "2019-07-01  2.06\n",
       "2019-08-01  1.63\n",
       "2019-09-01  1.70\n",
       "2019-10-01  1.71\n",
       "2019-11-01  1.81\n",
       "2019-12-01  1.86\n",
       "2020-01-01  1.76\n",
       "2020-02-01  1.50\n",
       "2020-03-01  0.87\n",
       "2020-04-01  0.66\n",
       "2020-05-01  0.67\n",
       "2020-06-01  0.73\n",
       "2020-07-01  0.62\n",
       "2020-08-01  0.65\n",
       "2020-09-01  0.68\n",
       "2020-10-01  0.79\n",
       "2020-11-01  0.87\n",
       "2020-12-01  0.93\n",
       "2021-01-01  1.08\n",
       "2021-02-01  1.26\n",
       "2021-03-01  1.61\n",
       "2021-04-01  1.64\n",
       "2021-05-01  1.62\n",
       "2021-06-01  1.52\n",
       "2021-07-01  1.32\n",
       "2021-08-01  1.28\n",
       "2021-09-01  1.37\n",
       "2021-10-01  1.58\n",
       "2021-11-01  1.56\n",
       "2021-12-01  1.47\n",
       "2022-01-01  1.76\n",
       "2022-02-01  1.93\n",
       "2022-03-01  2.13\n",
       "2022-04-01  2.75\n",
       "2022-05-01  2.90\n",
       "2022-06-01  3.14\n",
       "2022-07-01  2.90\n",
       "2022-08-01  2.90\n",
       "2022-09-01  3.52\n",
       "2022-10-01  3.98"
      ]
     },
     "execution_count": 13,
     "metadata": {},
     "output_type": "execute_result"
    }
   ],
   "source": [
    "import pandas_datareader as pdr\n",
    "pdr.get_data_fred('GS10')"
   ]
  },
  {
   "cell_type": "markdown",
   "id": "7c0e1213-ed28-4d75-82fc-67b3c2de4012",
   "metadata": {
    "slideshow": {
     "slide_type": "fragment"
    },
    "tags": [],
    "user_expressions": []
   },
   "source": [
    "<div class=\"alert alert-block alert-warning\">\n",
    "<b>Exercise 2:</b> Using the <code>my_xy_plot</code> function plot the relation between <b>GDP per capita</b> and <b>total patents</b> in the years 1990, 1995, 2000, 2010, 2020.\n",
    "</div>"
   ]
  },
  {
   "cell_type": "code",
   "execution_count": 33,
   "id": "a81b1969-40a2-4ade-bcf3-efecf747fe9f",
   "metadata": {
    "jupyter": {
     "source_hidden": true
    },
    "tags": []
   },
   "outputs": [],
   "source": [
    "def my_xy_plot(dfin, \n",
    "               x='SP.POP.GROW', \n",
    "               y='ln_gdp_pc', \n",
    "               labelvar='iso3c', \n",
    "               dx=0.006125, \n",
    "               dy=0.006125, \n",
    "               xlogscale=False, \n",
    "               ylogscale=False,\n",
    "               xlabel='Growth Rate of Population', \n",
    "               ylabel='Log[Income per capita in ' +  str(year) + ']',\n",
    "               labels=False,\n",
    "               xpct = False,\n",
    "               ypct = False,\n",
    "               OLS=False,\n",
    "               OLSlinelabel='OLS',\n",
    "               ssline=False,\n",
    "               sslinelabel='45 Degree Line',\n",
    "               filename='income-pop-growth.pdf',\n",
    "               hue='region',\n",
    "               hue_order=['East Asia & Pacific', 'Europe & Central Asia',\n",
    "                          'Latin America & Caribbean ', 'Middle East & North Africa',\n",
    "                          'North America', 'South Asia', 'Sub-Saharan Africa '],\n",
    "               style='incomeLevel', \n",
    "               style_order=['High Income', 'Upper Middle Income', 'Lower Middle Income', 'Low Income'],\n",
    "               palette=None,\n",
    "               size=None,\n",
    "               sizes=None,\n",
    "               legend_fontsize=10,\n",
    "               label_font_size=12,\n",
    "               save=True):\n",
    "    '''\n",
    "    Plot the association between x and var in dataframe using labelvar for labels.\n",
    "    '''\n",
    "    sns.set(rc={'figure.figsize':(11.7,8.27)})\n",
    "    sns.set_context(\"talk\")\n",
    "    df = dfin.copy()\n",
    "    df = df.dropna(subset=[x, y]).reset_index(drop=True)\n",
    "    # Plot\n",
    "    k = 0\n",
    "    fig, ax = plt.subplots()\n",
    "    sns.scatterplot(x=x, y=y, data=df, ax=ax, \n",
    "                    hue=hue,\n",
    "                    hue_order=hue_order,\n",
    "                    #hue='incomeLevel',\n",
    "                    #hue_order=['High Income', 'Upper Middle Income', 'Lower Middle Income', 'Low Income'],\n",
    "                    #hue_order=['East Asia & Pacific', 'Europe & Central Asia',\n",
    "                    #           'Latin America & Caribbean ', 'Middle East & North Africa',\n",
    "                    #           'North America', 'South Asia', 'Sub-Saharan Africa '],\n",
    "                    alpha=1, \n",
    "                    style=style, \n",
    "                    style_order=style_order,\n",
    "                    palette=palette,\n",
    "                    size=size,\n",
    "                    sizes=sizes,\n",
    "                    #palette=sns.color_palette(\"Blues_r\", df[hue].unique().shape[0]+6)[:df[hue].unique().shape[0]*2:2],\n",
    "                )\n",
    "    if OLS:\n",
    "        sns.regplot(x=x, y=y, data=df, ax=ax, label=OLSlinelabel, scatter=False)\n",
    "    if ssline:\n",
    "        ax.plot([df[x].min()*.99, df[x].max()*1.01], [df[x].min()*.99, df[x].max()*1.01], c='r', label=sslinelabel)\n",
    "    if labels:\n",
    "        movex = df[x].mean() * dx\n",
    "        movey = df[y].mean() * dy\n",
    "        for line in range(0,df.shape[0]):\n",
    "            ax.text(df[x][line]+movex, df[y][line]+movey, df[labelvar][line], horizontalalignment='left', fontsize=label_font_size, color='black')\n",
    "    ax.set_xlabel(xlabel)\n",
    "    ax.set_ylabel(ylabel)\n",
    "    if xpct:\n",
    "        fmt = '%.0f%%' # Format you want the ticks, e.g. '40%'\n",
    "        xticks = mtick.FormatStrFormatter(fmt)\n",
    "        ax.xaxis.set_major_formatter(xticks)\n",
    "    if ypct:\n",
    "        fmt = '%.0f%%' # Format you want the ticks, e.g. '40%'\n",
    "        yticks = mtick.FormatStrFormatter(fmt)\n",
    "        ax.yaxis.set_major_formatter(yticks)\n",
    "    if ylogscale:\n",
    "        ax.set(yscale=\"log\")\n",
    "    if xlogscale:\n",
    "        ax.set(xscale=\"log\")\n",
    "    handles, labels = ax.get_legend_handles_labels()\n",
    "    handles = np.array(handles)\n",
    "    labels = np.array(labels)\n",
    "    handles = list(handles[(labels!=hue) & (labels!=style) & (labels!=size)])\n",
    "    labels = list(labels[(labels!=hue) & (labels!=style) & (labels!=size)])\n",
    "    ax.legend(handles=handles, labels=labels, fontsize=legend_fontsize)\n",
    "    if save:\n",
    "        plt.savefig(pathgraphs + filename, dpi=300, bbox_inches='tight')\n",
    "    return fig"
   ]
  },
  {
   "cell_type": "markdown",
   "id": "e6439206-cd9c-4fa3-b8cf-a93032760fff",
   "metadata": {
    "slideshow": {
     "slide_type": "fragment"
    },
    "tags": [],
    "user_expressions": []
   },
   "source": [
    "<div class=\"alert alert-block alert-warning\">\n",
    "<b>Exercise 2:</b> Using the <code>my_xy_plot</code> function plot the relation between <b>GDP per capita</b> and <b>total patents</b> in the years 1990, 1995, 2000, 2010, 2020.\n",
    "</div>"
   ]
  },
  {
   "cell_type": "markdown",
   "id": "e865df75-3575-4b90-9996-6ac6d5953efd",
   "metadata": {
    "slideshow": {
     "slide_type": "fragment"
    },
    "tags": [],
    "user_expressions": []
   },
   "source": [
    "<div class=\"alert alert-block alert-warning\">\n",
    "<b>Exercise 3:</b> Using the <code>my_xy_line_plot</code> function plot the evolution of <b>GDP per capita</b> and <b>total patents</b> by income groups and regions (separate figures).\n",
    "</div>"
   ]
  },
  {
   "cell_type": "markdown",
   "id": "4df25014-9ae6-4c35-82ec-a5e1117df90e",
   "metadata": {
    "slideshow": {
     "slide_type": "subslide"
    },
    "tags": [],
    "user_expressions": []
   },
   "source": [
    "<div class=\"alert alert-block alert-warning\">\n",
    "<b>Exercise 4:</b> Plot the relation between patenting activity by <b>residents and non-residents</b> in the year 2015. Make sure to show the 45 degree line so you can see how similar they are.\n",
    "</div>"
   ]
  },
  {
   "cell_type": "markdown",
   "id": "d35e7835-db2a-4f21-a069-13e8a44227e1",
   "metadata": {
    "slideshow": {
     "slide_type": "fragment"
    },
    "tags": [],
    "user_expressions": []
   },
   "source": [
    "<div class=\"alert alert-block alert-warning\">\n",
    "<b>Exercise 5:</b> Create a static and a dynamic map for patenting activity in the year 2015 across the world. \n",
    "</div>"
   ]
  },
  {
   "cell_type": "markdown",
   "id": "c3c716a1-9508-4e98-99ea-9ef7c5824df5",
   "metadata": {
    "slideshow": {
     "slide_type": "fragment"
    },
    "tags": [],
    "user_expressions": []
   },
   "source": [
    "<div class=\"alert alert-block alert-warning\">\n",
    "<b>Exercise 6:</b> Explore the relation between economic development as measured by Log[GDP per capita] and patenting activity. Show the relation for residents, non-residents, and total, all in one nice looking table. Also, produce a few nice looking figures.\n",
    "</div>"
   ]
  }
 ],
 "metadata": {
  "kernelspec": {
   "display_name": "Python 3 (ipykernel)",
   "language": "python",
   "name": "python3"
  },
  "language_info": {
   "codemirror_mode": {
    "name": "ipython",
    "version": 3
   },
   "file_extension": ".py",
   "mimetype": "text/x-python",
   "name": "python",
   "nbconvert_exporter": "python",
   "pygments_lexer": "ipython3",
   "version": "3.9.13"
  }
 },
 "nbformat": 4,
 "nbformat_minor": 5
}
